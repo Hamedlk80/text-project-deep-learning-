{
  "nbformat": 4,
  "nbformat_minor": 0,
  "metadata": {
    "colab": {
      "provenance": [],
      "collapsed_sections": [
        "2Z72svl34vik",
        "KfQS-i45wkbN",
        "ra2yYyCVnJrw",
        "w7wUCcy5qDZV",
        "TcEkURF6nLzW",
        "jhgdW0iUrxnZ",
        "QV2CwIcsr8w5",
        "GzOlyEybOIOR"
      ]
    },
    "kernelspec": {
      "name": "python3",
      "display_name": "Python 3"
    },
    "language_info": {
      "name": "python"
    },
    "widgets": {
      "application/vnd.jupyter.widget-state+json": {
        "a55a23a575de4c1680485fb1a1fe3ae0": {
          "model_module": "@jupyter-widgets/controls",
          "model_name": "HBoxModel",
          "model_module_version": "1.5.0",
          "state": {
            "_dom_classes": [],
            "_model_module": "@jupyter-widgets/controls",
            "_model_module_version": "1.5.0",
            "_model_name": "HBoxModel",
            "_view_count": null,
            "_view_module": "@jupyter-widgets/controls",
            "_view_module_version": "1.5.0",
            "_view_name": "HBoxView",
            "box_style": "",
            "children": [
              "IPY_MODEL_b83aa90bda9b49c9b8d8693acdc7be5f",
              "IPY_MODEL_0c9c67d6544a4036851dd5eab963de07",
              "IPY_MODEL_1170f30cccc5443499797a45bc378c2d"
            ],
            "layout": "IPY_MODEL_241d4e20e91a4f87b6944463dc265c97"
          }
        },
        "b83aa90bda9b49c9b8d8693acdc7be5f": {
          "model_module": "@jupyter-widgets/controls",
          "model_name": "HTMLModel",
          "model_module_version": "1.5.0",
          "state": {
            "_dom_classes": [],
            "_model_module": "@jupyter-widgets/controls",
            "_model_module_version": "1.5.0",
            "_model_name": "HTMLModel",
            "_view_count": null,
            "_view_module": "@jupyter-widgets/controls",
            "_view_module_version": "1.5.0",
            "_view_name": "HTMLView",
            "description": "",
            "description_tooltip": null,
            "layout": "IPY_MODEL_d74ced25825d4a5bb268e7cc6f4724b3",
            "placeholder": "​",
            "style": "IPY_MODEL_a75d325c0a344c5cb572e263e5d12188",
            "value": "config.json: 100%"
          }
        },
        "0c9c67d6544a4036851dd5eab963de07": {
          "model_module": "@jupyter-widgets/controls",
          "model_name": "FloatProgressModel",
          "model_module_version": "1.5.0",
          "state": {
            "_dom_classes": [],
            "_model_module": "@jupyter-widgets/controls",
            "_model_module_version": "1.5.0",
            "_model_name": "FloatProgressModel",
            "_view_count": null,
            "_view_module": "@jupyter-widgets/controls",
            "_view_module_version": "1.5.0",
            "_view_name": "ProgressView",
            "bar_style": "success",
            "description": "",
            "description_tooltip": null,
            "layout": "IPY_MODEL_bf73bd9065e1453cb74ba278f0857c9c",
            "max": 440,
            "min": 0,
            "orientation": "horizontal",
            "style": "IPY_MODEL_4982ee17c5584c109ba2508f0e86c220",
            "value": 440
          }
        },
        "1170f30cccc5443499797a45bc378c2d": {
          "model_module": "@jupyter-widgets/controls",
          "model_name": "HTMLModel",
          "model_module_version": "1.5.0",
          "state": {
            "_dom_classes": [],
            "_model_module": "@jupyter-widgets/controls",
            "_model_module_version": "1.5.0",
            "_model_name": "HTMLModel",
            "_view_count": null,
            "_view_module": "@jupyter-widgets/controls",
            "_view_module_version": "1.5.0",
            "_view_name": "HTMLView",
            "description": "",
            "description_tooltip": null,
            "layout": "IPY_MODEL_269ec3082ba74a198a855ea0f9394457",
            "placeholder": "​",
            "style": "IPY_MODEL_80c59c1395264eecab36cbadc4e090b2",
            "value": " 440/440 [00:00&lt;00:00, 7.93kB/s]"
          }
        },
        "241d4e20e91a4f87b6944463dc265c97": {
          "model_module": "@jupyter-widgets/base",
          "model_name": "LayoutModel",
          "model_module_version": "1.2.0",
          "state": {
            "_model_module": "@jupyter-widgets/base",
            "_model_module_version": "1.2.0",
            "_model_name": "LayoutModel",
            "_view_count": null,
            "_view_module": "@jupyter-widgets/base",
            "_view_module_version": "1.2.0",
            "_view_name": "LayoutView",
            "align_content": null,
            "align_items": null,
            "align_self": null,
            "border": null,
            "bottom": null,
            "display": null,
            "flex": null,
            "flex_flow": null,
            "grid_area": null,
            "grid_auto_columns": null,
            "grid_auto_flow": null,
            "grid_auto_rows": null,
            "grid_column": null,
            "grid_gap": null,
            "grid_row": null,
            "grid_template_areas": null,
            "grid_template_columns": null,
            "grid_template_rows": null,
            "height": null,
            "justify_content": null,
            "justify_items": null,
            "left": null,
            "margin": null,
            "max_height": null,
            "max_width": null,
            "min_height": null,
            "min_width": null,
            "object_fit": null,
            "object_position": null,
            "order": null,
            "overflow": null,
            "overflow_x": null,
            "overflow_y": null,
            "padding": null,
            "right": null,
            "top": null,
            "visibility": null,
            "width": null
          }
        },
        "d74ced25825d4a5bb268e7cc6f4724b3": {
          "model_module": "@jupyter-widgets/base",
          "model_name": "LayoutModel",
          "model_module_version": "1.2.0",
          "state": {
            "_model_module": "@jupyter-widgets/base",
            "_model_module_version": "1.2.0",
            "_model_name": "LayoutModel",
            "_view_count": null,
            "_view_module": "@jupyter-widgets/base",
            "_view_module_version": "1.2.0",
            "_view_name": "LayoutView",
            "align_content": null,
            "align_items": null,
            "align_self": null,
            "border": null,
            "bottom": null,
            "display": null,
            "flex": null,
            "flex_flow": null,
            "grid_area": null,
            "grid_auto_columns": null,
            "grid_auto_flow": null,
            "grid_auto_rows": null,
            "grid_column": null,
            "grid_gap": null,
            "grid_row": null,
            "grid_template_areas": null,
            "grid_template_columns": null,
            "grid_template_rows": null,
            "height": null,
            "justify_content": null,
            "justify_items": null,
            "left": null,
            "margin": null,
            "max_height": null,
            "max_width": null,
            "min_height": null,
            "min_width": null,
            "object_fit": null,
            "object_position": null,
            "order": null,
            "overflow": null,
            "overflow_x": null,
            "overflow_y": null,
            "padding": null,
            "right": null,
            "top": null,
            "visibility": null,
            "width": null
          }
        },
        "a75d325c0a344c5cb572e263e5d12188": {
          "model_module": "@jupyter-widgets/controls",
          "model_name": "DescriptionStyleModel",
          "model_module_version": "1.5.0",
          "state": {
            "_model_module": "@jupyter-widgets/controls",
            "_model_module_version": "1.5.0",
            "_model_name": "DescriptionStyleModel",
            "_view_count": null,
            "_view_module": "@jupyter-widgets/base",
            "_view_module_version": "1.2.0",
            "_view_name": "StyleView",
            "description_width": ""
          }
        },
        "bf73bd9065e1453cb74ba278f0857c9c": {
          "model_module": "@jupyter-widgets/base",
          "model_name": "LayoutModel",
          "model_module_version": "1.2.0",
          "state": {
            "_model_module": "@jupyter-widgets/base",
            "_model_module_version": "1.2.0",
            "_model_name": "LayoutModel",
            "_view_count": null,
            "_view_module": "@jupyter-widgets/base",
            "_view_module_version": "1.2.0",
            "_view_name": "LayoutView",
            "align_content": null,
            "align_items": null,
            "align_self": null,
            "border": null,
            "bottom": null,
            "display": null,
            "flex": null,
            "flex_flow": null,
            "grid_area": null,
            "grid_auto_columns": null,
            "grid_auto_flow": null,
            "grid_auto_rows": null,
            "grid_column": null,
            "grid_gap": null,
            "grid_row": null,
            "grid_template_areas": null,
            "grid_template_columns": null,
            "grid_template_rows": null,
            "height": null,
            "justify_content": null,
            "justify_items": null,
            "left": null,
            "margin": null,
            "max_height": null,
            "max_width": null,
            "min_height": null,
            "min_width": null,
            "object_fit": null,
            "object_position": null,
            "order": null,
            "overflow": null,
            "overflow_x": null,
            "overflow_y": null,
            "padding": null,
            "right": null,
            "top": null,
            "visibility": null,
            "width": null
          }
        },
        "4982ee17c5584c109ba2508f0e86c220": {
          "model_module": "@jupyter-widgets/controls",
          "model_name": "ProgressStyleModel",
          "model_module_version": "1.5.0",
          "state": {
            "_model_module": "@jupyter-widgets/controls",
            "_model_module_version": "1.5.0",
            "_model_name": "ProgressStyleModel",
            "_view_count": null,
            "_view_module": "@jupyter-widgets/base",
            "_view_module_version": "1.2.0",
            "_view_name": "StyleView",
            "bar_color": null,
            "description_width": ""
          }
        },
        "269ec3082ba74a198a855ea0f9394457": {
          "model_module": "@jupyter-widgets/base",
          "model_name": "LayoutModel",
          "model_module_version": "1.2.0",
          "state": {
            "_model_module": "@jupyter-widgets/base",
            "_model_module_version": "1.2.0",
            "_model_name": "LayoutModel",
            "_view_count": null,
            "_view_module": "@jupyter-widgets/base",
            "_view_module_version": "1.2.0",
            "_view_name": "LayoutView",
            "align_content": null,
            "align_items": null,
            "align_self": null,
            "border": null,
            "bottom": null,
            "display": null,
            "flex": null,
            "flex_flow": null,
            "grid_area": null,
            "grid_auto_columns": null,
            "grid_auto_flow": null,
            "grid_auto_rows": null,
            "grid_column": null,
            "grid_gap": null,
            "grid_row": null,
            "grid_template_areas": null,
            "grid_template_columns": null,
            "grid_template_rows": null,
            "height": null,
            "justify_content": null,
            "justify_items": null,
            "left": null,
            "margin": null,
            "max_height": null,
            "max_width": null,
            "min_height": null,
            "min_width": null,
            "object_fit": null,
            "object_position": null,
            "order": null,
            "overflow": null,
            "overflow_x": null,
            "overflow_y": null,
            "padding": null,
            "right": null,
            "top": null,
            "visibility": null,
            "width": null
          }
        },
        "80c59c1395264eecab36cbadc4e090b2": {
          "model_module": "@jupyter-widgets/controls",
          "model_name": "DescriptionStyleModel",
          "model_module_version": "1.5.0",
          "state": {
            "_model_module": "@jupyter-widgets/controls",
            "_model_module_version": "1.5.0",
            "_model_name": "DescriptionStyleModel",
            "_view_count": null,
            "_view_module": "@jupyter-widgets/base",
            "_view_module_version": "1.2.0",
            "_view_name": "StyleView",
            "description_width": ""
          }
        },
        "426a190b004d4acca72191de9f50cbec": {
          "model_module": "@jupyter-widgets/controls",
          "model_name": "HBoxModel",
          "model_module_version": "1.5.0",
          "state": {
            "_dom_classes": [],
            "_model_module": "@jupyter-widgets/controls",
            "_model_module_version": "1.5.0",
            "_model_name": "HBoxModel",
            "_view_count": null,
            "_view_module": "@jupyter-widgets/controls",
            "_view_module_version": "1.5.0",
            "_view_name": "HBoxView",
            "box_style": "",
            "children": [
              "IPY_MODEL_95c4671b4cf947aaa80f04f9291195cf",
              "IPY_MODEL_dc0e2ebfeba246eb86bef7dd3aceb6dd",
              "IPY_MODEL_ae6e06b33465412a92ae184f64d31971"
            ],
            "layout": "IPY_MODEL_381663ac85da43498600a195b4d3f04a"
          }
        },
        "95c4671b4cf947aaa80f04f9291195cf": {
          "model_module": "@jupyter-widgets/controls",
          "model_name": "HTMLModel",
          "model_module_version": "1.5.0",
          "state": {
            "_dom_classes": [],
            "_model_module": "@jupyter-widgets/controls",
            "_model_module_version": "1.5.0",
            "_model_name": "HTMLModel",
            "_view_count": null,
            "_view_module": "@jupyter-widgets/controls",
            "_view_module_version": "1.5.0",
            "_view_name": "HTMLView",
            "description": "",
            "description_tooltip": null,
            "layout": "IPY_MODEL_a960052fcf2f4dd4b0a554a12d2305d3",
            "placeholder": "​",
            "style": "IPY_MODEL_ff3234489f554d50bcab274ea0623ed9",
            "value": "vocab.txt: "
          }
        },
        "dc0e2ebfeba246eb86bef7dd3aceb6dd": {
          "model_module": "@jupyter-widgets/controls",
          "model_name": "FloatProgressModel",
          "model_module_version": "1.5.0",
          "state": {
            "_dom_classes": [],
            "_model_module": "@jupyter-widgets/controls",
            "_model_module_version": "1.5.0",
            "_model_name": "FloatProgressModel",
            "_view_count": null,
            "_view_module": "@jupyter-widgets/controls",
            "_view_module_version": "1.5.0",
            "_view_name": "ProgressView",
            "bar_style": "success",
            "description": "",
            "description_tooltip": null,
            "layout": "IPY_MODEL_e5ac2c408ed3487eb144956ed09a6bb5",
            "max": 1,
            "min": 0,
            "orientation": "horizontal",
            "style": "IPY_MODEL_8c7043ef42494bcdb181d010d03b3eda",
            "value": 1
          }
        },
        "ae6e06b33465412a92ae184f64d31971": {
          "model_module": "@jupyter-widgets/controls",
          "model_name": "HTMLModel",
          "model_module_version": "1.5.0",
          "state": {
            "_dom_classes": [],
            "_model_module": "@jupyter-widgets/controls",
            "_model_module_version": "1.5.0",
            "_model_name": "HTMLModel",
            "_view_count": null,
            "_view_module": "@jupyter-widgets/controls",
            "_view_module_version": "1.5.0",
            "_view_name": "HTMLView",
            "description": "",
            "description_tooltip": null,
            "layout": "IPY_MODEL_b7ec84f5748348a3bead189ae0b7dee4",
            "placeholder": "​",
            "style": "IPY_MODEL_521cef89474547cba850fb7abb84006a",
            "value": " 1.20M/? [00:00&lt;00:00, 4.49MB/s]"
          }
        },
        "381663ac85da43498600a195b4d3f04a": {
          "model_module": "@jupyter-widgets/base",
          "model_name": "LayoutModel",
          "model_module_version": "1.2.0",
          "state": {
            "_model_module": "@jupyter-widgets/base",
            "_model_module_version": "1.2.0",
            "_model_name": "LayoutModel",
            "_view_count": null,
            "_view_module": "@jupyter-widgets/base",
            "_view_module_version": "1.2.0",
            "_view_name": "LayoutView",
            "align_content": null,
            "align_items": null,
            "align_self": null,
            "border": null,
            "bottom": null,
            "display": null,
            "flex": null,
            "flex_flow": null,
            "grid_area": null,
            "grid_auto_columns": null,
            "grid_auto_flow": null,
            "grid_auto_rows": null,
            "grid_column": null,
            "grid_gap": null,
            "grid_row": null,
            "grid_template_areas": null,
            "grid_template_columns": null,
            "grid_template_rows": null,
            "height": null,
            "justify_content": null,
            "justify_items": null,
            "left": null,
            "margin": null,
            "max_height": null,
            "max_width": null,
            "min_height": null,
            "min_width": null,
            "object_fit": null,
            "object_position": null,
            "order": null,
            "overflow": null,
            "overflow_x": null,
            "overflow_y": null,
            "padding": null,
            "right": null,
            "top": null,
            "visibility": null,
            "width": null
          }
        },
        "a960052fcf2f4dd4b0a554a12d2305d3": {
          "model_module": "@jupyter-widgets/base",
          "model_name": "LayoutModel",
          "model_module_version": "1.2.0",
          "state": {
            "_model_module": "@jupyter-widgets/base",
            "_model_module_version": "1.2.0",
            "_model_name": "LayoutModel",
            "_view_count": null,
            "_view_module": "@jupyter-widgets/base",
            "_view_module_version": "1.2.0",
            "_view_name": "LayoutView",
            "align_content": null,
            "align_items": null,
            "align_self": null,
            "border": null,
            "bottom": null,
            "display": null,
            "flex": null,
            "flex_flow": null,
            "grid_area": null,
            "grid_auto_columns": null,
            "grid_auto_flow": null,
            "grid_auto_rows": null,
            "grid_column": null,
            "grid_gap": null,
            "grid_row": null,
            "grid_template_areas": null,
            "grid_template_columns": null,
            "grid_template_rows": null,
            "height": null,
            "justify_content": null,
            "justify_items": null,
            "left": null,
            "margin": null,
            "max_height": null,
            "max_width": null,
            "min_height": null,
            "min_width": null,
            "object_fit": null,
            "object_position": null,
            "order": null,
            "overflow": null,
            "overflow_x": null,
            "overflow_y": null,
            "padding": null,
            "right": null,
            "top": null,
            "visibility": null,
            "width": null
          }
        },
        "ff3234489f554d50bcab274ea0623ed9": {
          "model_module": "@jupyter-widgets/controls",
          "model_name": "DescriptionStyleModel",
          "model_module_version": "1.5.0",
          "state": {
            "_model_module": "@jupyter-widgets/controls",
            "_model_module_version": "1.5.0",
            "_model_name": "DescriptionStyleModel",
            "_view_count": null,
            "_view_module": "@jupyter-widgets/base",
            "_view_module_version": "1.2.0",
            "_view_name": "StyleView",
            "description_width": ""
          }
        },
        "e5ac2c408ed3487eb144956ed09a6bb5": {
          "model_module": "@jupyter-widgets/base",
          "model_name": "LayoutModel",
          "model_module_version": "1.2.0",
          "state": {
            "_model_module": "@jupyter-widgets/base",
            "_model_module_version": "1.2.0",
            "_model_name": "LayoutModel",
            "_view_count": null,
            "_view_module": "@jupyter-widgets/base",
            "_view_module_version": "1.2.0",
            "_view_name": "LayoutView",
            "align_content": null,
            "align_items": null,
            "align_self": null,
            "border": null,
            "bottom": null,
            "display": null,
            "flex": null,
            "flex_flow": null,
            "grid_area": null,
            "grid_auto_columns": null,
            "grid_auto_flow": null,
            "grid_auto_rows": null,
            "grid_column": null,
            "grid_gap": null,
            "grid_row": null,
            "grid_template_areas": null,
            "grid_template_columns": null,
            "grid_template_rows": null,
            "height": null,
            "justify_content": null,
            "justify_items": null,
            "left": null,
            "margin": null,
            "max_height": null,
            "max_width": null,
            "min_height": null,
            "min_width": null,
            "object_fit": null,
            "object_position": null,
            "order": null,
            "overflow": null,
            "overflow_x": null,
            "overflow_y": null,
            "padding": null,
            "right": null,
            "top": null,
            "visibility": null,
            "width": "20px"
          }
        },
        "8c7043ef42494bcdb181d010d03b3eda": {
          "model_module": "@jupyter-widgets/controls",
          "model_name": "ProgressStyleModel",
          "model_module_version": "1.5.0",
          "state": {
            "_model_module": "@jupyter-widgets/controls",
            "_model_module_version": "1.5.0",
            "_model_name": "ProgressStyleModel",
            "_view_count": null,
            "_view_module": "@jupyter-widgets/base",
            "_view_module_version": "1.2.0",
            "_view_name": "StyleView",
            "bar_color": null,
            "description_width": ""
          }
        },
        "b7ec84f5748348a3bead189ae0b7dee4": {
          "model_module": "@jupyter-widgets/base",
          "model_name": "LayoutModel",
          "model_module_version": "1.2.0",
          "state": {
            "_model_module": "@jupyter-widgets/base",
            "_model_module_version": "1.2.0",
            "_model_name": "LayoutModel",
            "_view_count": null,
            "_view_module": "@jupyter-widgets/base",
            "_view_module_version": "1.2.0",
            "_view_name": "LayoutView",
            "align_content": null,
            "align_items": null,
            "align_self": null,
            "border": null,
            "bottom": null,
            "display": null,
            "flex": null,
            "flex_flow": null,
            "grid_area": null,
            "grid_auto_columns": null,
            "grid_auto_flow": null,
            "grid_auto_rows": null,
            "grid_column": null,
            "grid_gap": null,
            "grid_row": null,
            "grid_template_areas": null,
            "grid_template_columns": null,
            "grid_template_rows": null,
            "height": null,
            "justify_content": null,
            "justify_items": null,
            "left": null,
            "margin": null,
            "max_height": null,
            "max_width": null,
            "min_height": null,
            "min_width": null,
            "object_fit": null,
            "object_position": null,
            "order": null,
            "overflow": null,
            "overflow_x": null,
            "overflow_y": null,
            "padding": null,
            "right": null,
            "top": null,
            "visibility": null,
            "width": null
          }
        },
        "521cef89474547cba850fb7abb84006a": {
          "model_module": "@jupyter-widgets/controls",
          "model_name": "DescriptionStyleModel",
          "model_module_version": "1.5.0",
          "state": {
            "_model_module": "@jupyter-widgets/controls",
            "_model_module_version": "1.5.0",
            "_model_name": "DescriptionStyleModel",
            "_view_count": null,
            "_view_module": "@jupyter-widgets/base",
            "_view_module_version": "1.2.0",
            "_view_name": "StyleView",
            "description_width": ""
          }
        },
        "2286d8665fa94ef4b52da5cb2095a06c": {
          "model_module": "@jupyter-widgets/controls",
          "model_name": "HBoxModel",
          "model_module_version": "1.5.0",
          "state": {
            "_dom_classes": [],
            "_model_module": "@jupyter-widgets/controls",
            "_model_module_version": "1.5.0",
            "_model_name": "HBoxModel",
            "_view_count": null,
            "_view_module": "@jupyter-widgets/controls",
            "_view_module_version": "1.5.0",
            "_view_name": "HBoxView",
            "box_style": "",
            "children": [
              "IPY_MODEL_4c4a84f5ec1f461c94185ff7e77de9cc",
              "IPY_MODEL_e5ae819c972c48078f5c40a17e841b01",
              "IPY_MODEL_2e832fc0d776421a9abf69105be23061"
            ],
            "layout": "IPY_MODEL_6c10c4bb1d9e42d697b31d4b4cb2a785"
          }
        },
        "4c4a84f5ec1f461c94185ff7e77de9cc": {
          "model_module": "@jupyter-widgets/controls",
          "model_name": "HTMLModel",
          "model_module_version": "1.5.0",
          "state": {
            "_dom_classes": [],
            "_model_module": "@jupyter-widgets/controls",
            "_model_module_version": "1.5.0",
            "_model_name": "HTMLModel",
            "_view_count": null,
            "_view_module": "@jupyter-widgets/controls",
            "_view_module_version": "1.5.0",
            "_view_name": "HTMLView",
            "description": "",
            "description_tooltip": null,
            "layout": "IPY_MODEL_b95f0b2f1aef4a40851c1b224893bed1",
            "placeholder": "​",
            "style": "IPY_MODEL_f115e54231b14b7f97701ea5bc37f3c8",
            "value": "pytorch_model.bin: 100%"
          }
        },
        "e5ae819c972c48078f5c40a17e841b01": {
          "model_module": "@jupyter-widgets/controls",
          "model_name": "FloatProgressModel",
          "model_module_version": "1.5.0",
          "state": {
            "_dom_classes": [],
            "_model_module": "@jupyter-widgets/controls",
            "_model_module_version": "1.5.0",
            "_model_name": "FloatProgressModel",
            "_view_count": null,
            "_view_module": "@jupyter-widgets/controls",
            "_view_module_version": "1.5.0",
            "_view_name": "ProgressView",
            "bar_style": "success",
            "description": "",
            "description_tooltip": null,
            "layout": "IPY_MODEL_35ace2123479490eb48685546119a2d9",
            "max": 654226731,
            "min": 0,
            "orientation": "horizontal",
            "style": "IPY_MODEL_880a66beb8984ebb937e10094570cc7b",
            "value": 654226731
          }
        },
        "2e832fc0d776421a9abf69105be23061": {
          "model_module": "@jupyter-widgets/controls",
          "model_name": "HTMLModel",
          "model_module_version": "1.5.0",
          "state": {
            "_dom_classes": [],
            "_model_module": "@jupyter-widgets/controls",
            "_model_module_version": "1.5.0",
            "_model_name": "HTMLModel",
            "_view_count": null,
            "_view_module": "@jupyter-widgets/controls",
            "_view_module_version": "1.5.0",
            "_view_name": "HTMLView",
            "description": "",
            "description_tooltip": null,
            "layout": "IPY_MODEL_a4072fa804844574bfe9660fc3a54eee",
            "placeholder": "​",
            "style": "IPY_MODEL_f8fa03616c36452db99e5496646c6443",
            "value": " 654M/654M [00:07&lt;00:00, 144MB/s]"
          }
        },
        "6c10c4bb1d9e42d697b31d4b4cb2a785": {
          "model_module": "@jupyter-widgets/base",
          "model_name": "LayoutModel",
          "model_module_version": "1.2.0",
          "state": {
            "_model_module": "@jupyter-widgets/base",
            "_model_module_version": "1.2.0",
            "_model_name": "LayoutModel",
            "_view_count": null,
            "_view_module": "@jupyter-widgets/base",
            "_view_module_version": "1.2.0",
            "_view_name": "LayoutView",
            "align_content": null,
            "align_items": null,
            "align_self": null,
            "border": null,
            "bottom": null,
            "display": null,
            "flex": null,
            "flex_flow": null,
            "grid_area": null,
            "grid_auto_columns": null,
            "grid_auto_flow": null,
            "grid_auto_rows": null,
            "grid_column": null,
            "grid_gap": null,
            "grid_row": null,
            "grid_template_areas": null,
            "grid_template_columns": null,
            "grid_template_rows": null,
            "height": null,
            "justify_content": null,
            "justify_items": null,
            "left": null,
            "margin": null,
            "max_height": null,
            "max_width": null,
            "min_height": null,
            "min_width": null,
            "object_fit": null,
            "object_position": null,
            "order": null,
            "overflow": null,
            "overflow_x": null,
            "overflow_y": null,
            "padding": null,
            "right": null,
            "top": null,
            "visibility": null,
            "width": null
          }
        },
        "b95f0b2f1aef4a40851c1b224893bed1": {
          "model_module": "@jupyter-widgets/base",
          "model_name": "LayoutModel",
          "model_module_version": "1.2.0",
          "state": {
            "_model_module": "@jupyter-widgets/base",
            "_model_module_version": "1.2.0",
            "_model_name": "LayoutModel",
            "_view_count": null,
            "_view_module": "@jupyter-widgets/base",
            "_view_module_version": "1.2.0",
            "_view_name": "LayoutView",
            "align_content": null,
            "align_items": null,
            "align_self": null,
            "border": null,
            "bottom": null,
            "display": null,
            "flex": null,
            "flex_flow": null,
            "grid_area": null,
            "grid_auto_columns": null,
            "grid_auto_flow": null,
            "grid_auto_rows": null,
            "grid_column": null,
            "grid_gap": null,
            "grid_row": null,
            "grid_template_areas": null,
            "grid_template_columns": null,
            "grid_template_rows": null,
            "height": null,
            "justify_content": null,
            "justify_items": null,
            "left": null,
            "margin": null,
            "max_height": null,
            "max_width": null,
            "min_height": null,
            "min_width": null,
            "object_fit": null,
            "object_position": null,
            "order": null,
            "overflow": null,
            "overflow_x": null,
            "overflow_y": null,
            "padding": null,
            "right": null,
            "top": null,
            "visibility": null,
            "width": null
          }
        },
        "f115e54231b14b7f97701ea5bc37f3c8": {
          "model_module": "@jupyter-widgets/controls",
          "model_name": "DescriptionStyleModel",
          "model_module_version": "1.5.0",
          "state": {
            "_model_module": "@jupyter-widgets/controls",
            "_model_module_version": "1.5.0",
            "_model_name": "DescriptionStyleModel",
            "_view_count": null,
            "_view_module": "@jupyter-widgets/base",
            "_view_module_version": "1.2.0",
            "_view_name": "StyleView",
            "description_width": ""
          }
        },
        "35ace2123479490eb48685546119a2d9": {
          "model_module": "@jupyter-widgets/base",
          "model_name": "LayoutModel",
          "model_module_version": "1.2.0",
          "state": {
            "_model_module": "@jupyter-widgets/base",
            "_model_module_version": "1.2.0",
            "_model_name": "LayoutModel",
            "_view_count": null,
            "_view_module": "@jupyter-widgets/base",
            "_view_module_version": "1.2.0",
            "_view_name": "LayoutView",
            "align_content": null,
            "align_items": null,
            "align_self": null,
            "border": null,
            "bottom": null,
            "display": null,
            "flex": null,
            "flex_flow": null,
            "grid_area": null,
            "grid_auto_columns": null,
            "grid_auto_flow": null,
            "grid_auto_rows": null,
            "grid_column": null,
            "grid_gap": null,
            "grid_row": null,
            "grid_template_areas": null,
            "grid_template_columns": null,
            "grid_template_rows": null,
            "height": null,
            "justify_content": null,
            "justify_items": null,
            "left": null,
            "margin": null,
            "max_height": null,
            "max_width": null,
            "min_height": null,
            "min_width": null,
            "object_fit": null,
            "object_position": null,
            "order": null,
            "overflow": null,
            "overflow_x": null,
            "overflow_y": null,
            "padding": null,
            "right": null,
            "top": null,
            "visibility": null,
            "width": null
          }
        },
        "880a66beb8984ebb937e10094570cc7b": {
          "model_module": "@jupyter-widgets/controls",
          "model_name": "ProgressStyleModel",
          "model_module_version": "1.5.0",
          "state": {
            "_model_module": "@jupyter-widgets/controls",
            "_model_module_version": "1.5.0",
            "_model_name": "ProgressStyleModel",
            "_view_count": null,
            "_view_module": "@jupyter-widgets/base",
            "_view_module_version": "1.2.0",
            "_view_name": "StyleView",
            "bar_color": null,
            "description_width": ""
          }
        },
        "a4072fa804844574bfe9660fc3a54eee": {
          "model_module": "@jupyter-widgets/base",
          "model_name": "LayoutModel",
          "model_module_version": "1.2.0",
          "state": {
            "_model_module": "@jupyter-widgets/base",
            "_model_module_version": "1.2.0",
            "_model_name": "LayoutModel",
            "_view_count": null,
            "_view_module": "@jupyter-widgets/base",
            "_view_module_version": "1.2.0",
            "_view_name": "LayoutView",
            "align_content": null,
            "align_items": null,
            "align_self": null,
            "border": null,
            "bottom": null,
            "display": null,
            "flex": null,
            "flex_flow": null,
            "grid_area": null,
            "grid_auto_columns": null,
            "grid_auto_flow": null,
            "grid_auto_rows": null,
            "grid_column": null,
            "grid_gap": null,
            "grid_row": null,
            "grid_template_areas": null,
            "grid_template_columns": null,
            "grid_template_rows": null,
            "height": null,
            "justify_content": null,
            "justify_items": null,
            "left": null,
            "margin": null,
            "max_height": null,
            "max_width": null,
            "min_height": null,
            "min_width": null,
            "object_fit": null,
            "object_position": null,
            "order": null,
            "overflow": null,
            "overflow_x": null,
            "overflow_y": null,
            "padding": null,
            "right": null,
            "top": null,
            "visibility": null,
            "width": null
          }
        },
        "f8fa03616c36452db99e5496646c6443": {
          "model_module": "@jupyter-widgets/controls",
          "model_name": "DescriptionStyleModel",
          "model_module_version": "1.5.0",
          "state": {
            "_model_module": "@jupyter-widgets/controls",
            "_model_module_version": "1.5.0",
            "_model_name": "DescriptionStyleModel",
            "_view_count": null,
            "_view_module": "@jupyter-widgets/base",
            "_view_module_version": "1.2.0",
            "_view_name": "StyleView",
            "description_width": ""
          }
        },
        "b36c3432db464974ba9e3a871e5b6ede": {
          "model_module": "@jupyter-widgets/controls",
          "model_name": "HBoxModel",
          "model_module_version": "1.5.0",
          "state": {
            "_dom_classes": [],
            "_model_module": "@jupyter-widgets/controls",
            "_model_module_version": "1.5.0",
            "_model_name": "HBoxModel",
            "_view_count": null,
            "_view_module": "@jupyter-widgets/controls",
            "_view_module_version": "1.5.0",
            "_view_name": "HBoxView",
            "box_style": "",
            "children": [
              "IPY_MODEL_3f038922087841eeb07cc35b89facd3d",
              "IPY_MODEL_c28a88eac9984c3eb0f4635ea970bfd6",
              "IPY_MODEL_211479c436ff4be5ba443fa03a7df4d5"
            ],
            "layout": "IPY_MODEL_ee5dbead3d2f490bbc24b4c87542ce3a"
          }
        },
        "3f038922087841eeb07cc35b89facd3d": {
          "model_module": "@jupyter-widgets/controls",
          "model_name": "HTMLModel",
          "model_module_version": "1.5.0",
          "state": {
            "_dom_classes": [],
            "_model_module": "@jupyter-widgets/controls",
            "_model_module_version": "1.5.0",
            "_model_name": "HTMLModel",
            "_view_count": null,
            "_view_module": "@jupyter-widgets/controls",
            "_view_module_version": "1.5.0",
            "_view_name": "HTMLView",
            "description": "",
            "description_tooltip": null,
            "layout": "IPY_MODEL_dfb48d2cb1744b889416c2e4f2f535f8",
            "placeholder": "​",
            "style": "IPY_MODEL_cae6063dca4541018c86bd33583d3aa4",
            "value": "model.safetensors: 100%"
          }
        },
        "c28a88eac9984c3eb0f4635ea970bfd6": {
          "model_module": "@jupyter-widgets/controls",
          "model_name": "FloatProgressModel",
          "model_module_version": "1.5.0",
          "state": {
            "_dom_classes": [],
            "_model_module": "@jupyter-widgets/controls",
            "_model_module_version": "1.5.0",
            "_model_name": "FloatProgressModel",
            "_view_count": null,
            "_view_module": "@jupyter-widgets/controls",
            "_view_module_version": "1.5.0",
            "_view_name": "ProgressView",
            "bar_style": "success",
            "description": "",
            "description_tooltip": null,
            "layout": "IPY_MODEL_92d0a9df3a41490aa14b33e20a9c234c",
            "max": 654168456,
            "min": 0,
            "orientation": "horizontal",
            "style": "IPY_MODEL_50ef76c970b74654931ee25ebe163300",
            "value": 654168456
          }
        },
        "211479c436ff4be5ba443fa03a7df4d5": {
          "model_module": "@jupyter-widgets/controls",
          "model_name": "HTMLModel",
          "model_module_version": "1.5.0",
          "state": {
            "_dom_classes": [],
            "_model_module": "@jupyter-widgets/controls",
            "_model_module_version": "1.5.0",
            "_model_name": "HTMLModel",
            "_view_count": null,
            "_view_module": "@jupyter-widgets/controls",
            "_view_module_version": "1.5.0",
            "_view_name": "HTMLView",
            "description": "",
            "description_tooltip": null,
            "layout": "IPY_MODEL_b15617c5753a41b2a442723bd0597df8",
            "placeholder": "​",
            "style": "IPY_MODEL_7c7bfefe8a2a410f9a135e98e9883383",
            "value": " 654M/654M [00:07&lt;00:00, 101MB/s]"
          }
        },
        "ee5dbead3d2f490bbc24b4c87542ce3a": {
          "model_module": "@jupyter-widgets/base",
          "model_name": "LayoutModel",
          "model_module_version": "1.2.0",
          "state": {
            "_model_module": "@jupyter-widgets/base",
            "_model_module_version": "1.2.0",
            "_model_name": "LayoutModel",
            "_view_count": null,
            "_view_module": "@jupyter-widgets/base",
            "_view_module_version": "1.2.0",
            "_view_name": "LayoutView",
            "align_content": null,
            "align_items": null,
            "align_self": null,
            "border": null,
            "bottom": null,
            "display": null,
            "flex": null,
            "flex_flow": null,
            "grid_area": null,
            "grid_auto_columns": null,
            "grid_auto_flow": null,
            "grid_auto_rows": null,
            "grid_column": null,
            "grid_gap": null,
            "grid_row": null,
            "grid_template_areas": null,
            "grid_template_columns": null,
            "grid_template_rows": null,
            "height": null,
            "justify_content": null,
            "justify_items": null,
            "left": null,
            "margin": null,
            "max_height": null,
            "max_width": null,
            "min_height": null,
            "min_width": null,
            "object_fit": null,
            "object_position": null,
            "order": null,
            "overflow": null,
            "overflow_x": null,
            "overflow_y": null,
            "padding": null,
            "right": null,
            "top": null,
            "visibility": null,
            "width": null
          }
        },
        "dfb48d2cb1744b889416c2e4f2f535f8": {
          "model_module": "@jupyter-widgets/base",
          "model_name": "LayoutModel",
          "model_module_version": "1.2.0",
          "state": {
            "_model_module": "@jupyter-widgets/base",
            "_model_module_version": "1.2.0",
            "_model_name": "LayoutModel",
            "_view_count": null,
            "_view_module": "@jupyter-widgets/base",
            "_view_module_version": "1.2.0",
            "_view_name": "LayoutView",
            "align_content": null,
            "align_items": null,
            "align_self": null,
            "border": null,
            "bottom": null,
            "display": null,
            "flex": null,
            "flex_flow": null,
            "grid_area": null,
            "grid_auto_columns": null,
            "grid_auto_flow": null,
            "grid_auto_rows": null,
            "grid_column": null,
            "grid_gap": null,
            "grid_row": null,
            "grid_template_areas": null,
            "grid_template_columns": null,
            "grid_template_rows": null,
            "height": null,
            "justify_content": null,
            "justify_items": null,
            "left": null,
            "margin": null,
            "max_height": null,
            "max_width": null,
            "min_height": null,
            "min_width": null,
            "object_fit": null,
            "object_position": null,
            "order": null,
            "overflow": null,
            "overflow_x": null,
            "overflow_y": null,
            "padding": null,
            "right": null,
            "top": null,
            "visibility": null,
            "width": null
          }
        },
        "cae6063dca4541018c86bd33583d3aa4": {
          "model_module": "@jupyter-widgets/controls",
          "model_name": "DescriptionStyleModel",
          "model_module_version": "1.5.0",
          "state": {
            "_model_module": "@jupyter-widgets/controls",
            "_model_module_version": "1.5.0",
            "_model_name": "DescriptionStyleModel",
            "_view_count": null,
            "_view_module": "@jupyter-widgets/base",
            "_view_module_version": "1.2.0",
            "_view_name": "StyleView",
            "description_width": ""
          }
        },
        "92d0a9df3a41490aa14b33e20a9c234c": {
          "model_module": "@jupyter-widgets/base",
          "model_name": "LayoutModel",
          "model_module_version": "1.2.0",
          "state": {
            "_model_module": "@jupyter-widgets/base",
            "_model_module_version": "1.2.0",
            "_model_name": "LayoutModel",
            "_view_count": null,
            "_view_module": "@jupyter-widgets/base",
            "_view_module_version": "1.2.0",
            "_view_name": "LayoutView",
            "align_content": null,
            "align_items": null,
            "align_self": null,
            "border": null,
            "bottom": null,
            "display": null,
            "flex": null,
            "flex_flow": null,
            "grid_area": null,
            "grid_auto_columns": null,
            "grid_auto_flow": null,
            "grid_auto_rows": null,
            "grid_column": null,
            "grid_gap": null,
            "grid_row": null,
            "grid_template_areas": null,
            "grid_template_columns": null,
            "grid_template_rows": null,
            "height": null,
            "justify_content": null,
            "justify_items": null,
            "left": null,
            "margin": null,
            "max_height": null,
            "max_width": null,
            "min_height": null,
            "min_width": null,
            "object_fit": null,
            "object_position": null,
            "order": null,
            "overflow": null,
            "overflow_x": null,
            "overflow_y": null,
            "padding": null,
            "right": null,
            "top": null,
            "visibility": null,
            "width": null
          }
        },
        "50ef76c970b74654931ee25ebe163300": {
          "model_module": "@jupyter-widgets/controls",
          "model_name": "ProgressStyleModel",
          "model_module_version": "1.5.0",
          "state": {
            "_model_module": "@jupyter-widgets/controls",
            "_model_module_version": "1.5.0",
            "_model_name": "ProgressStyleModel",
            "_view_count": null,
            "_view_module": "@jupyter-widgets/base",
            "_view_module_version": "1.2.0",
            "_view_name": "StyleView",
            "bar_color": null,
            "description_width": ""
          }
        },
        "b15617c5753a41b2a442723bd0597df8": {
          "model_module": "@jupyter-widgets/base",
          "model_name": "LayoutModel",
          "model_module_version": "1.2.0",
          "state": {
            "_model_module": "@jupyter-widgets/base",
            "_model_module_version": "1.2.0",
            "_model_name": "LayoutModel",
            "_view_count": null,
            "_view_module": "@jupyter-widgets/base",
            "_view_module_version": "1.2.0",
            "_view_name": "LayoutView",
            "align_content": null,
            "align_items": null,
            "align_self": null,
            "border": null,
            "bottom": null,
            "display": null,
            "flex": null,
            "flex_flow": null,
            "grid_area": null,
            "grid_auto_columns": null,
            "grid_auto_flow": null,
            "grid_auto_rows": null,
            "grid_column": null,
            "grid_gap": null,
            "grid_row": null,
            "grid_template_areas": null,
            "grid_template_columns": null,
            "grid_template_rows": null,
            "height": null,
            "justify_content": null,
            "justify_items": null,
            "left": null,
            "margin": null,
            "max_height": null,
            "max_width": null,
            "min_height": null,
            "min_width": null,
            "object_fit": null,
            "object_position": null,
            "order": null,
            "overflow": null,
            "overflow_x": null,
            "overflow_y": null,
            "padding": null,
            "right": null,
            "top": null,
            "visibility": null,
            "width": null
          }
        },
        "7c7bfefe8a2a410f9a135e98e9883383": {
          "model_module": "@jupyter-widgets/controls",
          "model_name": "DescriptionStyleModel",
          "model_module_version": "1.5.0",
          "state": {
            "_model_module": "@jupyter-widgets/controls",
            "_model_module_version": "1.5.0",
            "_model_name": "DescriptionStyleModel",
            "_view_count": null,
            "_view_module": "@jupyter-widgets/base",
            "_view_module_version": "1.2.0",
            "_view_name": "StyleView",
            "description_width": ""
          }
        }
      }
    }
  },
  "cells": [
    {
      "cell_type": "markdown",
      "source": [
        "#install hazm"
      ],
      "metadata": {
        "id": "2Z72svl34vik"
      }
    },
    {
      "cell_type": "code",
      "execution_count": null,
      "metadata": {
        "colab": {
          "base_uri": "https://localhost:8080/",
          "height": 1000
        },
        "id": "Xo_KbxKWkJz_",
        "outputId": "f4cbcc72-44fe-48e5-c55b-940d181605a9"
      },
      "outputs": [
        {
          "output_type": "stream",
          "name": "stdout",
          "text": [
            "Collecting hazm\n",
            "  Downloading hazm-0.10.0-py3-none-any.whl.metadata (11 kB)\n",
            "Collecting fasttext-wheel<0.10.0,>=0.9.2 (from hazm)\n",
            "  Downloading fasttext_wheel-0.9.2-cp311-cp311-manylinux_2_17_x86_64.manylinux2014_x86_64.whl.metadata (16 kB)\n",
            "Collecting flashtext<3.0,>=2.7 (from hazm)\n",
            "  Downloading flashtext-2.7.tar.gz (14 kB)\n",
            "  Preparing metadata (setup.py) ... \u001b[?25l\u001b[?25hdone\n",
            "Collecting gensim<5.0.0,>=4.3.1 (from hazm)\n",
            "  Downloading gensim-4.3.3-cp311-cp311-manylinux_2_17_x86_64.manylinux2014_x86_64.whl.metadata (8.1 kB)\n",
            "Requirement already satisfied: nltk<4.0.0,>=3.8.1 in /usr/local/lib/python3.11/dist-packages (from hazm) (3.9.1)\n",
            "Collecting numpy==1.24.3 (from hazm)\n",
            "  Downloading numpy-1.24.3-cp311-cp311-manylinux_2_17_x86_64.manylinux2014_x86_64.whl.metadata (5.6 kB)\n",
            "Collecting python-crfsuite<0.10.0,>=0.9.9 (from hazm)\n",
            "  Downloading python_crfsuite-0.9.11-cp311-cp311-manylinux_2_17_x86_64.manylinux2014_x86_64.whl.metadata (4.3 kB)\n",
            "Requirement already satisfied: scikit-learn<2.0.0,>=1.2.2 in /usr/local/lib/python3.11/dist-packages (from hazm) (1.6.1)\n",
            "Collecting pybind11>=2.2 (from fasttext-wheel<0.10.0,>=0.9.2->hazm)\n",
            "  Downloading pybind11-3.0.0-py3-none-any.whl.metadata (10.0 kB)\n",
            "Requirement already satisfied: setuptools>=0.7.0 in /usr/local/lib/python3.11/dist-packages (from fasttext-wheel<0.10.0,>=0.9.2->hazm) (75.2.0)\n",
            "Collecting scipy<1.14.0,>=1.7.0 (from gensim<5.0.0,>=4.3.1->hazm)\n",
            "  Downloading scipy-1.13.1-cp311-cp311-manylinux_2_17_x86_64.manylinux2014_x86_64.whl.metadata (60 kB)\n",
            "\u001b[2K     \u001b[90m━━━━━━━━━━━━━━━━━━━━━━━━━━━━━━━━━━━━━━━━\u001b[0m \u001b[32m60.6/60.6 kB\u001b[0m \u001b[31m3.6 MB/s\u001b[0m eta \u001b[36m0:00:00\u001b[0m\n",
            "\u001b[?25hRequirement already satisfied: smart-open>=1.8.1 in /usr/local/lib/python3.11/dist-packages (from gensim<5.0.0,>=4.3.1->hazm) (7.3.0.post1)\n",
            "Requirement already satisfied: click in /usr/local/lib/python3.11/dist-packages (from nltk<4.0.0,>=3.8.1->hazm) (8.2.1)\n",
            "Requirement already satisfied: joblib in /usr/local/lib/python3.11/dist-packages (from nltk<4.0.0,>=3.8.1->hazm) (1.5.1)\n",
            "Requirement already satisfied: regex>=2021.8.3 in /usr/local/lib/python3.11/dist-packages (from nltk<4.0.0,>=3.8.1->hazm) (2024.11.6)\n",
            "Requirement already satisfied: tqdm in /usr/local/lib/python3.11/dist-packages (from nltk<4.0.0,>=3.8.1->hazm) (4.67.1)\n",
            "Requirement already satisfied: threadpoolctl>=3.1.0 in /usr/local/lib/python3.11/dist-packages (from scikit-learn<2.0.0,>=1.2.2->hazm) (3.6.0)\n",
            "Requirement already satisfied: wrapt in /usr/local/lib/python3.11/dist-packages (from smart-open>=1.8.1->gensim<5.0.0,>=4.3.1->hazm) (1.17.2)\n",
            "Downloading hazm-0.10.0-py3-none-any.whl (892 kB)\n",
            "\u001b[2K   \u001b[90m━━━━━━━━━━━━━━━━━━━━━━━━━━━━━━━━━━━━━━━━\u001b[0m \u001b[32m892.6/892.6 kB\u001b[0m \u001b[31m16.9 MB/s\u001b[0m eta \u001b[36m0:00:00\u001b[0m\n",
            "\u001b[?25hDownloading numpy-1.24.3-cp311-cp311-manylinux_2_17_x86_64.manylinux2014_x86_64.whl (17.3 MB)\n",
            "\u001b[2K   \u001b[90m━━━━━━━━━━━━━━━━━━━━━━━━━━━━━━━━━━━━━━━━\u001b[0m \u001b[32m17.3/17.3 MB\u001b[0m \u001b[31m30.5 MB/s\u001b[0m eta \u001b[36m0:00:00\u001b[0m\n",
            "\u001b[?25hDownloading fasttext_wheel-0.9.2-cp311-cp311-manylinux_2_17_x86_64.manylinux2014_x86_64.whl (4.4 MB)\n",
            "\u001b[2K   \u001b[90m━━━━━━━━━━━━━━━━━━━━━━━━━━━━━━━━━━━━━━━━\u001b[0m \u001b[32m4.4/4.4 MB\u001b[0m \u001b[31m29.3 MB/s\u001b[0m eta \u001b[36m0:00:00\u001b[0m\n",
            "\u001b[?25hDownloading gensim-4.3.3-cp311-cp311-manylinux_2_17_x86_64.manylinux2014_x86_64.whl (26.7 MB)\n",
            "\u001b[2K   \u001b[90m━━━━━━━━━━━━━━━━━━━━━━━━━━━━━━━━━━━━━━━━\u001b[0m \u001b[32m26.7/26.7 MB\u001b[0m \u001b[31m40.0 MB/s\u001b[0m eta \u001b[36m0:00:00\u001b[0m\n",
            "\u001b[?25hDownloading python_crfsuite-0.9.11-cp311-cp311-manylinux_2_17_x86_64.manylinux2014_x86_64.whl (1.3 MB)\n",
            "\u001b[2K   \u001b[90m━━━━━━━━━━━━━━━━━━━━━━━━━━━━━━━━━━━━━━━━\u001b[0m \u001b[32m1.3/1.3 MB\u001b[0m \u001b[31m34.2 MB/s\u001b[0m eta \u001b[36m0:00:00\u001b[0m\n",
            "\u001b[?25hDownloading pybind11-3.0.0-py3-none-any.whl (292 kB)\n",
            "\u001b[2K   \u001b[90m━━━━━━━━━━━━━━━━━━━━━━━━━━━━━━━━━━━━━━━━\u001b[0m \u001b[32m292.1/292.1 kB\u001b[0m \u001b[31m20.3 MB/s\u001b[0m eta \u001b[36m0:00:00\u001b[0m\n",
            "\u001b[?25hDownloading scipy-1.13.1-cp311-cp311-manylinux_2_17_x86_64.manylinux2014_x86_64.whl (38.6 MB)\n",
            "\u001b[2K   \u001b[90m━━━━━━━━━━━━━━━━━━━━━━━━━━━━━━━━━━━━━━━━\u001b[0m \u001b[32m38.6/38.6 MB\u001b[0m \u001b[31m11.8 MB/s\u001b[0m eta \u001b[36m0:00:00\u001b[0m\n",
            "\u001b[?25hBuilding wheels for collected packages: flashtext\n",
            "  Building wheel for flashtext (setup.py) ... \u001b[?25l\u001b[?25hdone\n",
            "  Created wheel for flashtext: filename=flashtext-2.7-py2.py3-none-any.whl size=9300 sha256=cde837c3896c50bf05cda1c71492f69e1a7abc175eac0dcfb844daed058a57ef\n",
            "  Stored in directory: /root/.cache/pip/wheels/49/20/47/f03dfa8a7239c54cbc44ff7389eefbf888d2c1873edaaec888\n",
            "Successfully built flashtext\n",
            "Installing collected packages: flashtext, python-crfsuite, pybind11, numpy, scipy, fasttext-wheel, gensim, hazm\n",
            "  Attempting uninstall: numpy\n",
            "    Found existing installation: numpy 2.0.2\n",
            "    Uninstalling numpy-2.0.2:\n",
            "      Successfully uninstalled numpy-2.0.2\n",
            "  Attempting uninstall: scipy\n",
            "    Found existing installation: scipy 1.16.1\n",
            "    Uninstalling scipy-1.16.1:\n",
            "      Successfully uninstalled scipy-1.16.1\n",
            "\u001b[31mERROR: pip's dependency resolver does not currently take into account all the packages that are installed. This behaviour is the source of the following dependency conflicts.\n",
            "pywavelets 1.9.0 requires numpy<3,>=1.25, but you have numpy 1.24.3 which is incompatible.\n",
            "xarray 2025.7.1 requires numpy>=1.26, but you have numpy 1.24.3 which is incompatible.\n",
            "albumentations 2.0.8 requires numpy>=1.24.4, but you have numpy 1.24.3 which is incompatible.\n",
            "xarray-einstats 0.9.1 requires numpy>=1.25, but you have numpy 1.24.3 which is incompatible.\n",
            "opencv-python 4.12.0.88 requires numpy<2.3.0,>=2; python_version >= \"3.9\", but you have numpy 1.24.3 which is incompatible.\n",
            "jax 0.5.3 requires numpy>=1.25, but you have numpy 1.24.3 which is incompatible.\n",
            "tensorflow 2.19.0 requires numpy<2.2.0,>=1.26.0, but you have numpy 1.24.3 which is incompatible.\n",
            "jaxlib 0.5.3 requires numpy>=1.25, but you have numpy 1.24.3 which is incompatible.\n",
            "contourpy 1.3.3 requires numpy>=1.25, but you have numpy 1.24.3 which is incompatible.\n",
            "blosc2 3.6.1 requires numpy>=1.26, but you have numpy 1.24.3 which is incompatible.\n",
            "opencv-contrib-python 4.12.0.88 requires numpy<2.3.0,>=2; python_version >= \"3.9\", but you have numpy 1.24.3 which is incompatible.\n",
            "pymc 5.25.1 requires numpy>=1.25.0, but you have numpy 1.24.3 which is incompatible.\n",
            "albucore 0.0.24 requires numpy>=1.24.4, but you have numpy 1.24.3 which is incompatible.\n",
            "treescope 0.1.9 requires numpy>=1.25.2, but you have numpy 1.24.3 which is incompatible.\n",
            "opencv-python-headless 4.12.0.88 requires numpy<2.3.0,>=2; python_version >= \"3.9\", but you have numpy 1.24.3 which is incompatible.\n",
            "thinc 8.3.6 requires numpy<3.0.0,>=2.0.0, but you have numpy 1.24.3 which is incompatible.\n",
            "arviz 0.22.0 requires numpy>=1.26.0, but you have numpy 1.24.3 which is incompatible.\n",
            "tsfresh 0.21.0 requires scipy>=1.14.0; python_version >= \"3.10\", but you have scipy 1.13.1 which is incompatible.\u001b[0m\u001b[31m\n",
            "\u001b[0mSuccessfully installed fasttext-wheel-0.9.2 flashtext-2.7 gensim-4.3.3 hazm-0.10.0 numpy-1.24.3 pybind11-3.0.0 python-crfsuite-0.9.11 scipy-1.13.1\n"
          ]
        },
        {
          "output_type": "display_data",
          "data": {
            "application/vnd.colab-display-data+json": {
              "pip_warning": {
                "packages": [
                  "numpy"
                ]
              },
              "id": "3834d882bc404c0597be269460cfae81"
            }
          },
          "metadata": {}
        }
      ],
      "source": [
        "pip install hazm"
      ]
    },
    {
      "cell_type": "code",
      "source": [
        "!pip install parsivar"
      ],
      "metadata": {
        "colab": {
          "base_uri": "https://localhost:8080/"
        },
        "id": "Q7JUHIptEpFy",
        "outputId": "1ac4a364-f6fb-4bc4-c229-a191e65ea9ad"
      },
      "execution_count": null,
      "outputs": [
        {
          "output_type": "stream",
          "name": "stdout",
          "text": [
            "Collecting parsivar\n",
            "  Downloading parsivar-0.2.3.1-py3-none-any.whl.metadata (242 bytes)\n",
            "Requirement already satisfied: nltk>=3.6.6 in /usr/local/lib/python3.11/dist-packages (from parsivar) (3.9.1)\n",
            "Requirement already satisfied: click in /usr/local/lib/python3.11/dist-packages (from nltk>=3.6.6->parsivar) (8.2.1)\n",
            "Requirement already satisfied: joblib in /usr/local/lib/python3.11/dist-packages (from nltk>=3.6.6->parsivar) (1.5.1)\n",
            "Requirement already satisfied: regex>=2021.8.3 in /usr/local/lib/python3.11/dist-packages (from nltk>=3.6.6->parsivar) (2024.11.6)\n",
            "Requirement already satisfied: tqdm in /usr/local/lib/python3.11/dist-packages (from nltk>=3.6.6->parsivar) (4.67.1)\n",
            "Downloading parsivar-0.2.3.1-py3-none-any.whl (18.0 MB)\n",
            "\u001b[2K   \u001b[90m━━━━━━━━━━━━━━━━━━━━━━━━━━━━━━━━━━━━━━━━\u001b[0m \u001b[32m18.0/18.0 MB\u001b[0m \u001b[31m15.9 MB/s\u001b[0m eta \u001b[36m0:00:00\u001b[0m\n",
            "\u001b[?25hInstalling collected packages: parsivar\n",
            "Successfully installed parsivar-0.2.3.1\n"
          ]
        }
      ]
    },
    {
      "cell_type": "code",
      "source": [
        "!pip install llama-cpp-python"
      ],
      "metadata": {
        "colab": {
          "base_uri": "https://localhost:8080/"
        },
        "id": "2fLEHYlKE_8c",
        "outputId": "a326aafb-93b9-48cc-bf4d-558faca86576"
      },
      "execution_count": null,
      "outputs": [
        {
          "output_type": "stream",
          "name": "stdout",
          "text": [
            "Collecting llama-cpp-python\n",
            "  Downloading llama_cpp_python-0.3.15.tar.gz (50.6 MB)\n",
            "\u001b[2K     \u001b[90m━━━━━━━━━━━━━━━━━━━━━━━━━━━━━━━━━━━━━━━━\u001b[0m \u001b[32m50.6/50.6 MB\u001b[0m \u001b[31m11.8 MB/s\u001b[0m eta \u001b[36m0:00:00\u001b[0m\n",
            "\u001b[?25h  Installing build dependencies ... \u001b[?25l\u001b[?25hdone\n",
            "  Getting requirements to build wheel ... \u001b[?25l\u001b[?25hdone\n",
            "  Installing backend dependencies ... \u001b[?25l\u001b[?25hdone\n",
            "  Preparing metadata (pyproject.toml) ... \u001b[?25l\u001b[?25hdone\n",
            "Requirement already satisfied: typing-extensions>=4.5.0 in /usr/local/lib/python3.11/dist-packages (from llama-cpp-python) (4.14.1)\n",
            "Requirement already satisfied: numpy>=1.20.0 in /usr/local/lib/python3.11/dist-packages (from llama-cpp-python) (1.24.3)\n",
            "Collecting diskcache>=5.6.1 (from llama-cpp-python)\n",
            "  Downloading diskcache-5.6.3-py3-none-any.whl.metadata (20 kB)\n",
            "Requirement already satisfied: jinja2>=2.11.3 in /usr/local/lib/python3.11/dist-packages (from llama-cpp-python) (3.1.6)\n",
            "Requirement already satisfied: MarkupSafe>=2.0 in /usr/local/lib/python3.11/dist-packages (from jinja2>=2.11.3->llama-cpp-python) (3.0.2)\n",
            "Downloading diskcache-5.6.3-py3-none-any.whl (45 kB)\n",
            "\u001b[2K   \u001b[90m━━━━━━━━━━━━━━━━━━━━━━━━━━━━━━━━━━━━━━━━\u001b[0m \u001b[32m45.5/45.5 kB\u001b[0m \u001b[31m3.4 MB/s\u001b[0m eta \u001b[36m0:00:00\u001b[0m\n",
            "\u001b[?25hBuilding wheels for collected packages: llama-cpp-python\n",
            "  Building wheel for llama-cpp-python (pyproject.toml) ... \u001b[?25l\u001b[?25hdone\n",
            "  Created wheel for llama-cpp-python: filename=llama_cpp_python-0.3.15-cp311-cp311-linux_x86_64.whl size=4397851 sha256=5b80aaa38b784c952f8be7ada8b1eb2d9b014e20cf0e929ff2a2675343be06b1\n",
            "  Stored in directory: /root/.cache/pip/wheels/34/62/22/63039c8c4c8da7ff68e81b8357e64c199faff9df9a2b5e5e3b\n",
            "Successfully built llama-cpp-python\n",
            "Installing collected packages: diskcache, llama-cpp-python\n",
            "Successfully installed diskcache-5.6.3 llama-cpp-python-0.3.15\n"
          ]
        }
      ]
    },
    {
      "cell_type": "markdown",
      "source": [
        "#imports"
      ],
      "metadata": {
        "id": "KfQS-i45wkbN"
      }
    },
    {
      "cell_type": "code",
      "source": [
        "from hazm import Normalizer, word_tokenize\n",
        "import pandas as pd\n",
        "import re"
      ],
      "metadata": {
        "id": "2TASL2DikkgE"
      },
      "execution_count": null,
      "outputs": []
    },
    {
      "cell_type": "code",
      "source": [
        "from parsivar import Normalizer, SpellCheck"
      ],
      "metadata": {
        "id": "I03RcIlJjlFz"
      },
      "execution_count": null,
      "outputs": []
    },
    {
      "cell_type": "code",
      "source": [
        "import torch\n",
        "import transformers\n",
        "from transformers import AutoTokenizer, AutoModelForCausalLM\n",
        "from huggingface_hub import login\n",
        "from huggingface_hub import hf_hub_download\n",
        "from llama_cpp import Llama\n",
        "import time\n",
        "import csv"
      ],
      "metadata": {
        "id": "JNMgdx-FDi7O"
      },
      "execution_count": null,
      "outputs": []
    },
    {
      "cell_type": "markdown",
      "source": [
        "#Texts"
      ],
      "metadata": {
        "id": "ra2yYyCVnJrw"
      }
    },
    {
      "cell_type": "code",
      "source": [
        "# Raw Farsi sentences (you can add your 20 samples here)\n",
        "texts = [\n",
        "    \"مي خواهم كتاب را بخوانم\",\n",
        "    \"سلام دكتر. فشار خونم خيلي ًبالاست !\",\n",
        "    \"دارو را   روزي سه بر بخور\",\n",
        "    \"از ديروز سر درد دارم 不客气 و هيچ دارويي نخوردم\",\n",
        "    \"چك كردم ولي قند خون نرمال بود\",\n",
        "    \"سلام دکتر 😊 دارو رو روزی 3 بار @ صبح‌ها بخور، اوکی؟ ❤️ #ممنون\",\n",
        "]"
      ],
      "metadata": {
        "id": "oZxyjHLOlXa6"
      },
      "execution_count": null,
      "outputs": []
    },
    {
      "cell_type": "code",
      "source": [
        "the_texts = [\n",
        "    \"برای درمان تب و بدن‌درد،  باید هر 6 ساعت یک عد قرص استامینووفن 500 مصرف کند و هر 12 ساعت یک کپسول آموکسی‌یلین 500 بعد از غذا مصرف شود.خانم کرمی\",\n",
        "    \"آقای صادقی به دلیل باید روزی یک عدد قرص آسیترومایسین 250 به مدت سه روز همراه صبحانه مصرف کند سینوسیت حاد و قطره ونیل‌افرین را هر 8 ساعت در هر سوراخ بینی بچکاند.\",\n",
        "    \"خانم عسگری به دلیل آلرسی فصلی باید روزی دو عدد قرص سیتریسین همراه غذا مصرف کند و شب‌ها  شربت دیفن‌هیدراین قبل از خواب یک قاشق میل نماید.\",\n",
        "    \"کودک هفت‌ساله‌ای که دچار عفونت گلو شده است باید هر 8 ساعت 5 شربت فالکسین مصرف کند سی‌سی و هر 6 ساعت یک قاشق شربت استامینوفن برای تب تجویزه شده است.\",\n",
        "    \"آقای حسام برای زفلاکس معده باید شب‌هاقرص واموتیدین 40 قبل از خواب  یک عدد و همراه ناهار یک قرص رانیتیدین مصرف کند.\",\n",
        "    \"جهت درمان سرماخوردگی، خانم آقاجانی باید روزی یه بار لوراتادین قرص پس از غذا مصرف کند و شب‌ها قبل از خواب یک قاشق شربت دیفندرامین نیز میل نماید.\",\n",
        "    \"خانم فرمند با تشخیص برونخیت باید روزی یک عدد قرص آزیترومایسین با معده حالی و هر 80 ساعت یک عدد استامینوفن 500 مصرف نماید قرص .\",\n",
        "    \"روزی دو باربرای درد مواصل، آقای تقوی باید قرص ایبوپروفن 40 را هر 8 ساعت بعد از غذا و نابروکسن 250 را  همراه یک لیوان آب میل کند.\",\n",
        "    \"کودک ده‌ساله‌ای که کم‌خونی دارد باید روزی یک قرص آن همراه صبحانه و شربت آسکوربیک اسید نیز روزی دو بار برای جذب بهتر .\",\n",
        "    \"خانم مرادی که دچار حساسیت پوستی است باید روزی یک عدد قرص لوراتادین صبح‌ها و شب‌ها پماد هیدروکورنیزون را روی نواحی آسیب‌ بالد.\",\n",
        "    \"برای درمان عفونت مجازی ادراری، آقای خلیلی باید هر 112 ساعت یک کپسول سفالسین 500 و روزی سه بار قرص مترونیداول همراه غذا .\",\n",
        "    \"خانم داوری که با اسال شدید و التهاب  باید روزی دو بار قرص لوپرامید و هر روز صبح یک عدد قرص دگزامتازون . مصرف مایات فراموش شود.\",\n",
        "    \"کودک سه‌ساله با گلودرد ویروسی باید هر 6 ساعت یک قاشق شربت استامینوفن و هر 12 ساعت یک قاشق شربت هیستامین بعد از غذا .\",\n",
        "    \"آقای رفیعی با آلرژی تنفسی باید روزی یک عدد قرص فکسوونادین با شکم خالی و شب‌ها قبل از خواب شربت دیفن‌هیدرامین .\",\n",
        "    \"خانم اجباری که دچار کمبود ویتامین C شده است باید شربت آسکوربیک سید را روزی دو بار بعد از غذا و قرص ژینک را همراه وعده شام مصرف کند.\",\n",
        "    \"برای بهبود خواب، آقای شایان باید هر شب قبل از خواب یک عدد قرص ظولپیدم 10 مصرف کند و درصورت اضطراب، صبح‌ها یک قرص الپرازولان با معده خالی میل نماید.\",\n",
        "    \"کودک هشت‌ساله با اورتیت میانی باید هر 8 ساعت 5 سی‌سی شربت سفیکسلیم و شب‌ها قبل از خواب یک قاشق شربت دیفن‌هیدرامین  شود.\",\n",
        "    \"خانم نظری برای رفلاکس باید صبح‌ها ناشتا یک عدد قرص امپرازول و شب‌ها بعد از شام یک قرص فاموتیدین .\",\n",
        "    \"خانم نادری با سردرد مرمن باید روزی هر 66 ساعت یک عدد قرص استامینوفن 5000 مصرف کند  در صورت شدت درد، پماد موضعی منتول روی شقیشقه‌ها.\",\n",
        "    \" برای درمان عفونت شدید، آقای پرویزی باید روزی یک عدد قرص آسیترومایسین و هر 12 ساعت یک عدد آمپول چنتامایسین تزریقی طبق دستور زشک بزند.\"\n",
        "  ]"
      ],
      "metadata": {
        "id": "dS1HZ8EDKjgD"
      },
      "execution_count": null,
      "outputs": []
    },
    {
      "cell_type": "markdown",
      "source": [
        "#cleaning"
      ],
      "metadata": {
        "id": "w7wUCcy5qDZV"
      }
    },
    {
      "cell_type": "code",
      "source": [
        "def clean_symbols_and_emojis(text):\n",
        "\n",
        "    # Define allowed punctuation: Persian and some general\n",
        "    allowed_punct = \"،.؟؛:!\"\n",
        "\n",
        "    # Build regex pattern:\n",
        "    # Pattern to match any character NOT in:\n",
        "    # - Persian Unicode range \\u0600-\\u06FF\n",
        "    # - English letters a-zA-Z\n",
        "    # - Digits 0-9 and Persian digits \\u06F0-\\u06F9\n",
        "    # - Half-space \\u200c\n",
        "    # - Whitespace \\s\n",
        "    # - Allowed punctuation\n",
        "    pattern = fr\"[^a-zA-Z0-9\\u06F0-\\u06F9\\u0600-\\u06FF\\u200c\\s{re.escape(allowed_punct)}]\"\n",
        "\n",
        "    # Remove disallowed characters (emojis, symbols, etc.)\n",
        "    cleaned = re.sub(pattern, \"\", text)\n",
        "\n",
        "    return cleaned\n"
      ],
      "metadata": {
        "id": "7b6dt4riokLw"
      },
      "execution_count": null,
      "outputs": []
    },
    {
      "cell_type": "markdown",
      "source": [
        "#Normalizing"
      ],
      "metadata": {
        "id": "TcEkURF6nLzW"
      }
    },
    {
      "cell_type": "code",
      "source": [
        "# Initialize hazm normalizer\n",
        "normalizer = Normalizer()\n",
        "\n",
        "def normalize_farsi_sentences(sentences):\n",
        "    \"\"\"\n",
        "    Normalize a list of Farsi sentences using hazm.\n",
        "    \"\"\"\n",
        "    normalized = []\n",
        "    for sentence in sentences:\n",
        "        cleaned = normalizer.normalize(sentence)\n",
        "        normalized.append(cleaned)\n",
        "    return normalized\n"
      ],
      "metadata": {
        "id": "iQyTPR62lYG-"
      },
      "execution_count": null,
      "outputs": []
    },
    {
      "cell_type": "markdown",
      "source": [
        "#applying cleaning and normalizing"
      ],
      "metadata": {
        "id": "jhgdW0iUrxnZ"
      }
    },
    {
      "cell_type": "code",
      "source": [
        "# Clean + Normalize pipeline\n",
        "cleaned_texts = [clean_symbols_and_emojis(t) for t in the_texts]\n",
        "normalized_texts = [normalizer.normalize(t) for t in cleaned_texts]\n",
        "\n",
        "# Show original, cleaned, and normalized\n",
        "for i, (orig, clean, norm) in enumerate(zip(the_texts, cleaned_texts, normalized_texts), 1):\n",
        "    print(f\"{i}. Original   : {orig}\")\n",
        "    print(f\"   Cleaned    : {clean}\")\n",
        "    print(f\"   Normalized : {norm}\")\n",
        "    print(\"-\" * 50)"
      ],
      "metadata": {
        "colab": {
          "base_uri": "https://localhost:8080/"
        },
        "id": "q4H4NohPlbuJ",
        "outputId": "f44bb3ca-dad6-4673-d528-b852edc5fa0f"
      },
      "execution_count": null,
      "outputs": [
        {
          "output_type": "stream",
          "name": "stdout",
          "text": [
            "1. Original   : برای درمان تب و بدن‌درد،  باید هر 6 ساعت یک عد قرص استامینووفن 500 مصرف کند و هر 12 ساعت یک کپسول آموکسی‌یلین 500 بعد از غذا مصرف شود.خانم کرمی\n",
            "   Cleaned    : برای درمان تب و بدن‌درد،  باید هر 6 ساعت یک عد قرص استامینووفن 500 مصرف کند و هر 12 ساعت یک کپسول آموکسی‌یلین 500 بعد از غذا مصرف شود.خانم کرمی\n",
            "   Normalized : برای درمان تب و بدن‌درد ، باید هر 6 ساعت یک عد قرص استامینووفن 500 مصرف کند و هر 12 ساعت یک کپسول آموکسی‌یلین 500 بعد از غذا مصرف شود . خانم کرمی\n",
            "--------------------------------------------------\n",
            "2. Original   : آقای صادقی به دلیل باید روزی یک عدد قرص آسیترومایسین 250 به مدت سه روز همراه صبحانه مصرف کند سینوسیت حاد و قطره ونیل‌افرین را هر 8 ساعت در هر سوراخ بینی بچکاند.\n",
            "   Cleaned    : آقای صادقی به دلیل باید روزی یک عدد قرص آسیترومایسین 250 به مدت سه روز همراه صبحانه مصرف کند سینوسیت حاد و قطره ونیل‌افرین را هر 8 ساعت در هر سوراخ بینی بچکاند.\n",
            "   Normalized : آقای صادقی به دلیل باید روزی یک عدد قرص آسیترومایسین 250 به مدت سه روز همراه صبحانه مصرف کند سینوسیت حاد و قطره ونیل‌افرین را هر 8 ساعت در هر سوراخ بینی بچکاند .\n",
            "--------------------------------------------------\n",
            "3. Original   : خانم عسگری به دلیل آلرسی فصلی باید روزی دو عدد قرص سیتریسین همراه غذا مصرف کند و شب‌ها  شربت دیفن‌هیدراین قبل از خواب یک قاشق میل نماید.\n",
            "   Cleaned    : خانم عسگری به دلیل آلرسی فصلی باید روزی دو عدد قرص سیتریسین همراه غذا مصرف کند و شب‌ها  شربت دیفن‌هیدراین قبل از خواب یک قاشق میل نماید.\n",
            "   Normalized : خانم عسگری به دلیل آلرسی فصلی باید روزی دو عدد قرص سیتریسین همراه غذا مصرف کند و شب‌ها شربت دیفن‌هیدراین قبل از خواب یک قاشق میل نماید .\n",
            "--------------------------------------------------\n",
            "4. Original   : کودک هفت‌ساله‌ای که دچار عفونت گلو شده است باید هر 8 ساعت 5 شربت فالکسین مصرف کند سی‌سی و هر 6 ساعت یک قاشق شربت استامینوفن برای تب تجویزه شده است.\n",
            "   Cleaned    : کودک هفت‌ساله‌ای که دچار عفونت گلو شده است باید هر 8 ساعت 5 شربت فالکسین مصرف کند سی‌سی و هر 6 ساعت یک قاشق شربت استامینوفن برای تب تجویزه شده است.\n",
            "   Normalized : کودک هفت‌ساله‌ای که دچار عفونت گلو‌شده‌است باید هر 8 ساعت 5 شربت فالکسین مصرف کند سی‌سی و هر 6 ساعت یک قاشق شربت استامینوفن برای تب تجویزه‌شده‌است .\n",
            "--------------------------------------------------\n",
            "5. Original   : آقای حسام برای زفلاکس معده باید شب‌هاقرص واموتیدین 40 قبل از خواب  یک عدد و همراه ناهار یک قرص رانیتیدین مصرف کند.\n",
            "   Cleaned    : آقای حسام برای زفلاکس معده باید شب‌هاقرص واموتیدین 40 قبل از خواب  یک عدد و همراه ناهار یک قرص رانیتیدین مصرف کند.\n",
            "   Normalized : آقای حسام برای زفلاکس معده باید شب‌هاقرص واموتیدین 40 قبل از خواب یک عدد و همراه ناهار یک قرص رانیتیدین مصرف کند .\n",
            "--------------------------------------------------\n",
            "6. Original   : جهت درمان سرماخوردگی، خانم آقاجانی باید روزی یه بار لوراتادین قرص پس از غذا مصرف کند و شب‌ها قبل از خواب یک قاشق شربت دیفندرامین نیز میل نماید.\n",
            "   Cleaned    : جهت درمان سرماخوردگی، خانم آقاجانی باید روزی یه بار لوراتادین قرص پس از غذا مصرف کند و شب‌ها قبل از خواب یک قاشق شربت دیفندرامین نیز میل نماید.\n",
            "   Normalized : جهت درمان سرماخوردگی ، خانم آقاجانی باید روزی یه بار لوراتادین قرص پس از غذا مصرف کند و شب‌ها قبل از خواب یک قاشق شربت دیفندرامین نیز میل نماید .\n",
            "--------------------------------------------------\n",
            "7. Original   : خانم فرمند با تشخیص برونخیت باید روزی یک عدد قرص آزیترومایسین با معده حالی و هر 80 ساعت یک عدد استامینوفن 500 مصرف نماید قرص .\n",
            "   Cleaned    : خانم فرمند با تشخیص برونخیت باید روزی یک عدد قرص آزیترومایسین با معده حالی و هر 80 ساعت یک عدد استامینوفن 500 مصرف نماید قرص .\n",
            "   Normalized : خانم فرمند با تشخیص برونخیت باید روزی یک عدد قرص آزیترومایسین با معده حالی و هر 80 ساعت یک عدد استامینوفن 500 مصرف نماید قرص .\n",
            "--------------------------------------------------\n",
            "8. Original   : روزی دو باربرای درد مواصل، آقای تقوی باید قرص ایبوپروفن 40 را هر 8 ساعت بعد از غذا و نابروکسن 250 را  همراه یک لیوان آب میل کند.\n",
            "   Cleaned    : روزی دو باربرای درد مواصل، آقای تقوی باید قرص ایبوپروفن 40 را هر 8 ساعت بعد از غذا و نابروکسن 250 را  همراه یک لیوان آب میل کند.\n",
            "   Normalized : روزی دو باربرای درد مواصل ، آقای تقوی باید قرص ایبوپروفن 40 را هر 8 ساعت بعد از غذا و نابروکسن 250 را همراه یک لیوان آب میل کند .\n",
            "--------------------------------------------------\n",
            "9. Original   : کودک ده‌ساله‌ای که کم‌خونی دارد باید روزی یک قرص آن همراه صبحانه و شربت آسکوربیک اسید نیز روزی دو بار برای جذب بهتر .\n",
            "   Cleaned    : کودک ده‌ساله‌ای که کم‌خونی دارد باید روزی یک قرص آن همراه صبحانه و شربت آسکوربیک اسید نیز روزی دو بار برای جذب بهتر .\n",
            "   Normalized : کودک ده‌ساله‌ای که کم‌خونی دارد باید روزی یک قرص آن همراه صبحانه و شربت آسکوربیک اسید نیز روزی دو بار برای جذب بهتر .\n",
            "--------------------------------------------------\n",
            "10. Original   : خانم مرادی که دچار حساسیت پوستی است باید روزی یک عدد قرص لوراتادین صبح‌ها و شب‌ها پماد هیدروکورنیزون را روی نواحی آسیب‌ بالد.\n",
            "   Cleaned    : خانم مرادی که دچار حساسیت پوستی است باید روزی یک عدد قرص لوراتادین صبح‌ها و شب‌ها پماد هیدروکورنیزون را روی نواحی آسیب‌ بالد.\n",
            "   Normalized : خانم مرادی که دچار حساسیت پوستی است باید روزی یک عدد قرص لوراتادین صبح‌ها و شب‌ها پماد هیدروکورنیزون را روی نواحی آسیب‌ بالد .\n",
            "--------------------------------------------------\n",
            "11. Original   : برای درمان عفونت مجازی ادراری، آقای خلیلی باید هر 112 ساعت یک کپسول سفالسین 500 و روزی سه بار قرص مترونیداول همراه غذا .\n",
            "   Cleaned    : برای درمان عفونت مجازی ادراری، آقای خلیلی باید هر 112 ساعت یک کپسول سفالسین 500 و روزی سه بار قرص مترونیداول همراه غذا .\n",
            "   Normalized : برای درمان عفونت مجازی ادراری ، آقای خلیلی باید هر 112 ساعت یک کپسول سفالسین 500 و روزی سه بار قرص مترونیداول همراه غذا .\n",
            "--------------------------------------------------\n",
            "12. Original   : خانم داوری که با اسال شدید و التهاب  باید روزی دو بار قرص لوپرامید و هر روز صبح یک عدد قرص دگزامتازون . مصرف مایات فراموش شود.\n",
            "   Cleaned    : خانم داوری که با اسال شدید و التهاب  باید روزی دو بار قرص لوپرامید و هر روز صبح یک عدد قرص دگزامتازون . مصرف مایات فراموش شود.\n",
            "   Normalized : خانم داوری که با اسال شدید و التهاب باید روزی دو بار قرص لوپرامید و هر روز صبح یک عدد قرص دگزامتازون . مصرف مایات فراموش شود .\n",
            "--------------------------------------------------\n",
            "13. Original   : کودک سه‌ساله با گلودرد ویروسی باید هر 6 ساعت یک قاشق شربت استامینوفن و هر 12 ساعت یک قاشق شربت هیستامین بعد از غذا .\n",
            "   Cleaned    : کودک سه‌ساله با گلودرد ویروسی باید هر 6 ساعت یک قاشق شربت استامینوفن و هر 12 ساعت یک قاشق شربت هیستامین بعد از غذا .\n",
            "   Normalized : کودک سه‌ساله با گلودرد ویروسی باید هر 6 ساعت یک قاشق شربت استامینوفن و هر 12 ساعت یک قاشق شربت هیستامین بعد از غذا .\n",
            "--------------------------------------------------\n",
            "14. Original   : آقای رفیعی با آلرژی تنفسی باید روزی یک عدد قرص فکسوونادین با شکم خالی و شب‌ها قبل از خواب شربت دیفن‌هیدرامین .\n",
            "   Cleaned    : آقای رفیعی با آلرژی تنفسی باید روزی یک عدد قرص فکسوونادین با شکم خالی و شب‌ها قبل از خواب شربت دیفن‌هیدرامین .\n",
            "   Normalized : آقای رفیعی با آلرژی تنفسی باید روزی یک عدد قرص فکسوونادین با شکم خالی و شب‌ها قبل از خواب شربت دیفن‌هیدرامین .\n",
            "--------------------------------------------------\n",
            "15. Original   : خانم اجباری که دچار کمبود ویتامین C شده است باید شربت آسکوربیک سید را روزی دو بار بعد از غذا و قرص ژینک را همراه وعده شام مصرف کند.\n",
            "   Cleaned    : خانم اجباری که دچار کمبود ویتامین C شده است باید شربت آسکوربیک سید را روزی دو بار بعد از غذا و قرص ژینک را همراه وعده شام مصرف کند.\n",
            "   Normalized : خانم اجباری که دچار کمبود ویتامین C‌شده‌است باید شربت آسکوربیک سید را روزی دو بار بعد از غذا و قرص ژینک را همراه وعده شام مصرف کند .\n",
            "--------------------------------------------------\n",
            "16. Original   : برای بهبود خواب، آقای شایان باید هر شب قبل از خواب یک عدد قرص ظولپیدم 10 مصرف کند و درصورت اضطراب، صبح‌ها یک قرص الپرازولان با معده خالی میل نماید.\n",
            "   Cleaned    : برای بهبود خواب، آقای شایان باید هر شب قبل از خواب یک عدد قرص ظولپیدم 10 مصرف کند و درصورت اضطراب، صبح‌ها یک قرص الپرازولان با معده خالی میل نماید.\n",
            "   Normalized : برای بهبود خواب ، آقای شایان باید هر شب قبل از خواب یک عدد قرص ظولپیدم 10 مصرف کند و درصورت اضطراب ، صبح‌ها یک قرص الپرازولان با معده خالی میل نماید .\n",
            "--------------------------------------------------\n",
            "17. Original   : کودک هشت‌ساله با اورتیت میانی باید هر 8 ساعت 5 سی‌سی شربت سفیکسلیم و شب‌ها قبل از خواب یک قاشق شربت دیفن‌هیدرامین  شود.\n",
            "   Cleaned    : کودک هشت‌ساله با اورتیت میانی باید هر 8 ساعت 5 سی‌سی شربت سفیکسلیم و شب‌ها قبل از خواب یک قاشق شربت دیفن‌هیدرامین  شود.\n",
            "   Normalized : کودک هشت‌ساله با اورتیت میانی باید هر 8 ساعت 5 سی‌سی شربت سفیکسلیم و شب‌ها قبل از خواب یک قاشق شربت دیفن‌هیدرامین شود .\n",
            "--------------------------------------------------\n",
            "18. Original   : خانم نظری برای رفلاکس باید صبح‌ها ناشتا یک عدد قرص امپرازول و شب‌ها بعد از شام یک قرص فاموتیدین .\n",
            "   Cleaned    : خانم نظری برای رفلاکس باید صبح‌ها ناشتا یک عدد قرص امپرازول و شب‌ها بعد از شام یک قرص فاموتیدین .\n",
            "   Normalized : خانم نظری برای رفلاکس باید صبح‌ها ناشتا یک عدد قرص امپرازول و شب‌ها بعد از شام یک قرص فاموتیدین .\n",
            "--------------------------------------------------\n",
            "19. Original   : خانم نادری با سردرد مرمن باید روزی هر 66 ساعت یک عدد قرص استامینوفن 5000 مصرف کند  در صورت شدت درد، پماد موضعی منتول روی شقیشقه‌ها.\n",
            "   Cleaned    : خانم نادری با سردرد مرمن باید روزی هر 66 ساعت یک عدد قرص استامینوفن 5000 مصرف کند  در صورت شدت درد، پماد موضعی منتول روی شقیشقه‌ها.\n",
            "   Normalized : خانم نادری با سردرد مرمن باید روزی هر 66 ساعت یک عدد قرص استامینوفن 5000 مصرف کند در صورت شدت درد ، پماد موضعی منتول روی شقیشقه‌ها .\n",
            "--------------------------------------------------\n",
            "20. Original   :  برای درمان عفونت شدید، آقای پرویزی باید روزی یک عدد قرص آسیترومایسین و هر 12 ساعت یک عدد آمپول چنتامایسین تزریقی طبق دستور زشک بزند.\n",
            "   Cleaned    :  برای درمان عفونت شدید، آقای پرویزی باید روزی یک عدد قرص آسیترومایسین و هر 12 ساعت یک عدد آمپول چنتامایسین تزریقی طبق دستور زشک بزند.\n",
            "   Normalized : برای درمان عفونت شدید ، آقای پرویزی باید روزی یک عدد قرص آسیترومایسین و هر 12 ساعت یک عدد آمپول چنتامایسین تزریقی طبق دستور زشک بزند .\n",
            "--------------------------------------------------\n"
          ]
        }
      ]
    },
    {
      "cell_type": "markdown",
      "source": [
        "#creat a csv"
      ],
      "metadata": {
        "id": "QV2CwIcsr8w5"
      }
    },
    {
      "cell_type": "code",
      "source": [
        "# Create DataFrame\n",
        "df = pd.DataFrame({\n",
        "    \"Original\": the_texts,\n",
        "    \"Cleaned\": cleaned_texts,\n",
        "    \"Normalized\": normalized_texts\n",
        "})\n",
        "df.to_csv(\"farsi_cleaned_normalized.csv\", index=False, encoding=\"utf-8-sig\")\n",
        "print(\"✅ Exported to farsi_cleaned_normalized.csv\")"
      ],
      "metadata": {
        "colab": {
          "base_uri": "https://localhost:8080/"
        },
        "id": "I_CNEt8imlBa",
        "outputId": "adc874bb-1bfb-4a96-f9c2-6407769db4f6"
      },
      "execution_count": null,
      "outputs": [
        {
          "output_type": "stream",
          "name": "stdout",
          "text": [
            "✅ Exported to farsi_cleaned_normalized.csv\n"
          ]
        }
      ]
    },
    {
      "cell_type": "markdown",
      "source": [
        "# loading and testing model"
      ],
      "metadata": {
        "id": "GzOlyEybOIOR"
      }
    },
    {
      "cell_type": "code",
      "source": [
        "from transformers import AutoTokenizer, AutoModelForMaskedLM\n",
        "import torch, re\n",
        "import pandas as pd\n",
        "\n",
        "device = \"cuda\" if torch.cuda.is_available() else \"cpu\"\n",
        "name = \"HooshvareLab/bert-fa-base-uncased\"  # نسخه‌ی پایه (MLM) - نه مدل clf\n",
        "tok = AutoTokenizer.from_pretrained(name)\n",
        "mlm = AutoModelForMaskedLM.from_pretrained(name).to(device)\n",
        "MASK = tok.mask_token\n",
        "\n",
        "def correct_sentence(sent, max_len=256, topk=5, conf_gap=3.0):\n",
        "    # روش ساده‌ی توکنی: هر کلمه را ماسک می‌کنیم و بهترین پیشنهاد را می‌گیریم\n",
        "    words = re.findall(r\"\\S+|\\s+\", sent)  # فاصله‌ها حفظ شود\n",
        "    out = words[:]\n",
        "    for i, w in enumerate(words):\n",
        "        if w.isspace() or len(w) < 3 or w.isdigit():\n",
        "            continue\n",
        "        cand_words = out[:]\n",
        "        cand_words[i] = MASK\n",
        "        masked = \"\".join(cand_words)\n",
        "\n",
        "        inputs = tok(masked, return_tensors=\"pt\", truncation=True, max_length=max_len).to(device)\n",
        "        with torch.no_grad():\n",
        "            logits = mlm(**inputs).logits\n",
        "\n",
        "        mask_idx = (inputs.input_ids[0] == tok.mask_token_id).nonzero(as_tuple=True)[0]\n",
        "        if len(mask_idx) == 0:\n",
        "            continue\n",
        "        mask_idx = mask_idx.item()\n",
        "\n",
        "        probs = torch.softmax(logits[0, mask_idx], dim=-1)\n",
        "        top = torch.topk(probs, k=topk)\n",
        "\n",
        "        orig_ids = tok(w, add_special_tokens=False).input_ids\n",
        "        p_orig = probs[orig_ids[0]].item() if len(orig_ids) == 1 else 0.0\n",
        "\n",
        "        best_id = top.indices[0].item()\n",
        "        best_tok = tok.decode([best_id]).strip()\n",
        "        p_best = top.values[0].item()\n",
        "\n",
        "        if p_best > p_orig * conf_gap and best_tok and best_tok != w:\n",
        "            out[i] = best_tok\n",
        "    return \"\".join(out)\n",
        "\n",
        "# --- فقط روی ستون Normalized اعمال کن و ذخیره کن ---\n",
        "df = pd.read_csv(\"farsi_cleaned_normalized.csv\")\n",
        "df[\"Normalized\"] = df[\"Normalized\"].fillna(\"\").astype(str)\n",
        "\n",
        "df[\"BERT_uncased_on_Normalized\"] = df[\"Normalized\"].apply(correct_sentence)\n",
        "\n",
        "out_path = \"farsi_bert_uncased_corrected_on_normalized.csv\"\n",
        "df.to_csv(out_path, index=False, encoding=\"utf-8-sig\")\n",
        "print(\"✅ Saved to\", out_path)\n"
      ],
      "metadata": {
        "colab": {
          "base_uri": "https://localhost:8080/",
          "height": 339,
          "referenced_widgets": [
            "a55a23a575de4c1680485fb1a1fe3ae0",
            "b83aa90bda9b49c9b8d8693acdc7be5f",
            "0c9c67d6544a4036851dd5eab963de07",
            "1170f30cccc5443499797a45bc378c2d",
            "241d4e20e91a4f87b6944463dc265c97",
            "d74ced25825d4a5bb268e7cc6f4724b3",
            "a75d325c0a344c5cb572e263e5d12188",
            "bf73bd9065e1453cb74ba278f0857c9c",
            "4982ee17c5584c109ba2508f0e86c220",
            "269ec3082ba74a198a855ea0f9394457",
            "80c59c1395264eecab36cbadc4e090b2",
            "426a190b004d4acca72191de9f50cbec",
            "95c4671b4cf947aaa80f04f9291195cf",
            "dc0e2ebfeba246eb86bef7dd3aceb6dd",
            "ae6e06b33465412a92ae184f64d31971",
            "381663ac85da43498600a195b4d3f04a",
            "a960052fcf2f4dd4b0a554a12d2305d3",
            "ff3234489f554d50bcab274ea0623ed9",
            "e5ac2c408ed3487eb144956ed09a6bb5",
            "8c7043ef42494bcdb181d010d03b3eda",
            "b7ec84f5748348a3bead189ae0b7dee4",
            "521cef89474547cba850fb7abb84006a",
            "2286d8665fa94ef4b52da5cb2095a06c",
            "4c4a84f5ec1f461c94185ff7e77de9cc",
            "e5ae819c972c48078f5c40a17e841b01",
            "2e832fc0d776421a9abf69105be23061",
            "6c10c4bb1d9e42d697b31d4b4cb2a785",
            "b95f0b2f1aef4a40851c1b224893bed1",
            "f115e54231b14b7f97701ea5bc37f3c8",
            "35ace2123479490eb48685546119a2d9",
            "880a66beb8984ebb937e10094570cc7b",
            "a4072fa804844574bfe9660fc3a54eee",
            "f8fa03616c36452db99e5496646c6443",
            "b36c3432db464974ba9e3a871e5b6ede",
            "3f038922087841eeb07cc35b89facd3d",
            "c28a88eac9984c3eb0f4635ea970bfd6",
            "211479c436ff4be5ba443fa03a7df4d5",
            "ee5dbead3d2f490bbc24b4c87542ce3a",
            "dfb48d2cb1744b889416c2e4f2f535f8",
            "cae6063dca4541018c86bd33583d3aa4",
            "92d0a9df3a41490aa14b33e20a9c234c",
            "50ef76c970b74654931ee25ebe163300",
            "b15617c5753a41b2a442723bd0597df8",
            "7c7bfefe8a2a410f9a135e98e9883383"
          ]
        },
        "id": "Mc56oJpxlhoj",
        "outputId": "1b051f83-4a25-4e73-d8c1-de9e1f63ca93"
      },
      "execution_count": null,
      "outputs": [
        {
          "output_type": "stream",
          "name": "stderr",
          "text": [
            "/usr/local/lib/python3.11/dist-packages/huggingface_hub/utils/_auth.py:94: UserWarning: \n",
            "The secret `HF_TOKEN` does not exist in your Colab secrets.\n",
            "To authenticate with the Hugging Face Hub, create a token in your settings tab (https://huggingface.co/settings/tokens), set it as secret in your Google Colab and restart your session.\n",
            "You will be able to reuse this secret in all of your notebooks.\n",
            "Please note that authentication is recommended but still optional to access public models or datasets.\n",
            "  warnings.warn(\n"
          ]
        },
        {
          "output_type": "display_data",
          "data": {
            "text/plain": [
              "config.json:   0%|          | 0.00/440 [00:00<?, ?B/s]"
            ],
            "application/vnd.jupyter.widget-view+json": {
              "version_major": 2,
              "version_minor": 0,
              "model_id": "a55a23a575de4c1680485fb1a1fe3ae0"
            }
          },
          "metadata": {}
        },
        {
          "output_type": "display_data",
          "data": {
            "text/plain": [
              "vocab.txt: 0.00B [00:00, ?B/s]"
            ],
            "application/vnd.jupyter.widget-view+json": {
              "version_major": 2,
              "version_minor": 0,
              "model_id": "426a190b004d4acca72191de9f50cbec"
            }
          },
          "metadata": {}
        },
        {
          "output_type": "display_data",
          "data": {
            "text/plain": [
              "pytorch_model.bin:   0%|          | 0.00/654M [00:00<?, ?B/s]"
            ],
            "application/vnd.jupyter.widget-view+json": {
              "version_major": 2,
              "version_minor": 0,
              "model_id": "2286d8665fa94ef4b52da5cb2095a06c"
            }
          },
          "metadata": {}
        },
        {
          "output_type": "display_data",
          "data": {
            "text/plain": [
              "model.safetensors:   0%|          | 0.00/654M [00:00<?, ?B/s]"
            ],
            "application/vnd.jupyter.widget-view+json": {
              "version_major": 2,
              "version_minor": 0,
              "model_id": "b36c3432db464974ba9e3a871e5b6ede"
            }
          },
          "metadata": {}
        },
        {
          "output_type": "stream",
          "name": "stderr",
          "text": [
            "Some weights of the model checkpoint at HooshvareLab/bert-fa-base-uncased were not used when initializing BertForMaskedLM: ['bert.pooler.dense.bias', 'bert.pooler.dense.weight', 'cls.seq_relationship.bias', 'cls.seq_relationship.weight']\n",
            "- This IS expected if you are initializing BertForMaskedLM from the checkpoint of a model trained on another task or with another architecture (e.g. initializing a BertForSequenceClassification model from a BertForPreTraining model).\n",
            "- This IS NOT expected if you are initializing BertForMaskedLM from the checkpoint of a model that you expect to be exactly identical (initializing a BertForSequenceClassification model from a BertForSequenceClassification model).\n"
          ]
        },
        {
          "output_type": "stream",
          "name": "stdout",
          "text": [
            "✅ Saved to farsi_bert_uncased_corrected_on_normalized.csv\n"
          ]
        }
      ]
    }
  ]
}