{
  "nbformat": 4,
  "nbformat_minor": 0,
  "metadata": {
    "colab": {
      "provenance": [],
      "collapsed_sections": [
        "k_Zs-18lTTr0"
      ]
    },
    "kernelspec": {
      "name": "python3",
      "display_name": "Python 3"
    },
    "language_info": {
      "name": "python"
    }
  },
  "cells": [
    {
      "cell_type": "markdown",
      "source": [
        "# cleaning drug data"
      ],
      "metadata": {
        "id": "k_Zs-18lTTr0"
      }
    },
    {
      "cell_type": "code",
      "source": [
        "import pandas as pd"
      ],
      "metadata": {
        "id": "TsRQ5Gj1TqUM"
      },
      "execution_count": null,
      "outputs": []
    },
    {
      "cell_type": "code",
      "source": [
        "# Re-load the newly uploaded Excel file\n",
        "new_file_path = \"لیست دارویی.xlsx\"\n",
        "df_new = pd.read_excel(new_file_path)"
      ],
      "metadata": {
        "id": "M7Rkoj4vTk9b"
      },
      "execution_count": null,
      "outputs": []
    },
    {
      "cell_type": "code",
      "source": [
        "# Clean column names again\n",
        "df_new.columns = df_new.iloc[0]\n",
        "df_new = df_new[1:]\n",
        "\n",
        "# Keep only the necessary columns\n",
        "df_clean_new = df_new[['نام ژنریک دارو(فارسی)', 'شکل دارو', 'دوز دارو']].copy()\n",
        "df_clean_new.columns = ['نام دارو', 'شکل دارو', 'دوز دارو']\n",
        "\n",
        "# Drop rows with missing values in the name\n",
        "df_clean_new = df_clean_new.dropna(subset=['نام دارو'])\n",
        "\n",
        "# Remove duplicates (same name, form, and dose)\n",
        "df_clean_new = df_clean_new.drop_duplicates()\n",
        "\n",
        "# Reset index\n",
        "df_clean_new.reset_index(drop=True, inplace=True)\n",
        "\n",
        "# Export to CSV\n",
        "fixed_csv_path = \"لیست_دارویی_اصلاح_شده.csv\"\n",
        "df_clean_new.to_csv(fixed_csv_path, index=False, encoding='utf-8-sig')\n",
        "\n",
        "fixed_csv_path\n"
      ],
      "metadata": {
        "colab": {
          "base_uri": "https://localhost:8080/",
          "height": 36
        },
        "id": "4I3X1Q-sTTJj",
        "outputId": "8d57e041-1c7c-4f56-d31a-00594d65a096"
      },
      "execution_count": null,
      "outputs": [
        {
          "output_type": "execute_result",
          "data": {
            "text/plain": [
              "'لیست_دارویی_اصلاح_شده.csv'"
            ],
            "application/vnd.google.colaboratory.intrinsic+json": {
              "type": "string"
            }
          },
          "metadata": {},
          "execution_count": 4
        }
      ]
    }
  ]
}